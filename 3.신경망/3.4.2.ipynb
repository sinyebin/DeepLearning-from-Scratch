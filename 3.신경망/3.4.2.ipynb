{
 "cells": [
  {
   "cell_type": "code",
   "execution_count": 1,
   "id": "0cc90ca5",
   "metadata": {},
   "outputs": [],
   "source": [
    "import numpy as np"
   ]
  },
  {
   "cell_type": "code",
   "execution_count": 2,
   "id": "3b06d615",
   "metadata": {},
   "outputs": [],
   "source": [
    "X=np.array([1.0,0.5])"
   ]
  },
  {
   "cell_type": "code",
   "execution_count": 4,
   "id": "294a2db8",
   "metadata": {},
   "outputs": [],
   "source": [
    "W1=np.array([[0.1,0.3,0.5],[0.2,0.4,0.6]])"
   ]
  },
  {
   "cell_type": "code",
   "execution_count": 6,
   "id": "f47701be",
   "metadata": {},
   "outputs": [],
   "source": [
    "B1=np.array([0.1,0.2,0.3])"
   ]
  },
  {
   "cell_type": "code",
   "execution_count": 7,
   "id": "f54f1190",
   "metadata": {},
   "outputs": [
    {
     "name": "stdout",
     "output_type": "stream",
     "text": [
      "(2, 3)\n"
     ]
    }
   ],
   "source": [
    "print(W1.shape)"
   ]
  },
  {
   "cell_type": "code",
   "execution_count": 8,
   "id": "c125c149",
   "metadata": {},
   "outputs": [
    {
     "name": "stdout",
     "output_type": "stream",
     "text": [
      "(2,)\n"
     ]
    }
   ],
   "source": [
    "print(X.shape)"
   ]
  },
  {
   "cell_type": "code",
   "execution_count": 9,
   "id": "012c4f4d",
   "metadata": {},
   "outputs": [
    {
     "name": "stdout",
     "output_type": "stream",
     "text": [
      "(3,)\n"
     ]
    }
   ],
   "source": [
    "print(B1.shape)"
   ]
  },
  {
   "cell_type": "code",
   "execution_count": 10,
   "id": "f14ad876",
   "metadata": {},
   "outputs": [],
   "source": [
    "A1=np.dot(X,W1)+B1"
   ]
  },
  {
   "cell_type": "code",
   "execution_count": 12,
   "id": "51dbfd4b",
   "metadata": {},
   "outputs": [],
   "source": [
    "def sigmoid(x):\n",
    "    return 1/(1+np.exp(-x))"
   ]
  },
  {
   "cell_type": "code",
   "execution_count": 13,
   "id": "809daa88",
   "metadata": {},
   "outputs": [],
   "source": [
    "Z1=sigmoid(A1)"
   ]
  },
  {
   "cell_type": "code",
   "execution_count": 14,
   "id": "e4414ae6",
   "metadata": {},
   "outputs": [
    {
     "name": "stdout",
     "output_type": "stream",
     "text": [
      "[0.3 0.7 1.1]\n"
     ]
    }
   ],
   "source": [
    "print(A1)"
   ]
  },
  {
   "cell_type": "code",
   "execution_count": 15,
   "id": "8e31395a",
   "metadata": {},
   "outputs": [
    {
     "name": "stdout",
     "output_type": "stream",
     "text": [
      "[0.57444252 0.66818777 0.75026011]\n"
     ]
    }
   ],
   "source": [
    "print(Z1)"
   ]
  },
  {
   "cell_type": "code",
   "execution_count": 16,
   "id": "7cfe9999",
   "metadata": {},
   "outputs": [],
   "source": [
    "W2=np.array([[0.1,0.4],[0.2,0.5],[0.3,0.6]])"
   ]
  },
  {
   "cell_type": "code",
   "execution_count": 17,
   "id": "dd2339f2",
   "metadata": {},
   "outputs": [],
   "source": [
    "B2=np.array([0.1,0.2])"
   ]
  },
  {
   "cell_type": "code",
   "execution_count": 18,
   "id": "ec64790a",
   "metadata": {},
   "outputs": [
    {
     "name": "stdout",
     "output_type": "stream",
     "text": [
      "(3,)\n"
     ]
    }
   ],
   "source": [
    "print(Z1.shape)"
   ]
  },
  {
   "cell_type": "code",
   "execution_count": 19,
   "id": "975a4cc7",
   "metadata": {},
   "outputs": [
    {
     "name": "stdout",
     "output_type": "stream",
     "text": [
      "(3, 2)\n"
     ]
    }
   ],
   "source": [
    "print(W2.shape)"
   ]
  },
  {
   "cell_type": "code",
   "execution_count": 20,
   "id": "eea65a80",
   "metadata": {},
   "outputs": [
    {
     "name": "stdout",
     "output_type": "stream",
     "text": [
      "(2,)\n"
     ]
    }
   ],
   "source": [
    "print(B2.shape)"
   ]
  },
  {
   "cell_type": "code",
   "execution_count": 21,
   "id": "7dd434d8",
   "metadata": {},
   "outputs": [],
   "source": [
    "A2=np.dot(Z1,W2)+B2"
   ]
  },
  {
   "cell_type": "code",
   "execution_count": 22,
   "id": "0c763336",
   "metadata": {},
   "outputs": [],
   "source": [
    "Z2=sigmoid(A2)"
   ]
  },
  {
   "cell_type": "code",
   "execution_count": 23,
   "id": "20386a36",
   "metadata": {},
   "outputs": [],
   "source": [
    "def identity_function(x):\n",
    "    return x"
   ]
  },
  {
   "cell_type": "code",
   "execution_count": 24,
   "id": "8c247b3e",
   "metadata": {},
   "outputs": [],
   "source": [
    "W3=np.array([[0.1,0.3],[0.2,0.4]])"
   ]
  },
  {
   "cell_type": "code",
   "execution_count": 25,
   "id": "028c128c",
   "metadata": {},
   "outputs": [],
   "source": [
    "B3=np.array([0.1,0.2])"
   ]
  },
  {
   "cell_type": "code",
   "execution_count": 26,
   "id": "fa8ca20f",
   "metadata": {},
   "outputs": [],
   "source": [
    "A3=np.dot(Z2,W3)+B3"
   ]
  },
  {
   "cell_type": "code",
   "execution_count": 27,
   "id": "a33eb481",
   "metadata": {},
   "outputs": [],
   "source": [
    "Y=identity_function(A3)"
   ]
  },
  {
   "cell_type": "code",
   "execution_count": null,
   "id": "e4302389",
   "metadata": {},
   "outputs": [],
   "source": []
  }
 ],
 "metadata": {
  "kernelspec": {
   "display_name": "Python 3",
   "language": "python",
   "name": "python3"
  },
  "language_info": {
   "codemirror_mode": {
    "name": "ipython",
    "version": 3
   },
   "file_extension": ".py",
   "mimetype": "text/x-python",
   "name": "python",
   "nbconvert_exporter": "python",
   "pygments_lexer": "ipython3",
   "version": "3.8.8"
  }
 },
 "nbformat": 4,
 "nbformat_minor": 5
}
