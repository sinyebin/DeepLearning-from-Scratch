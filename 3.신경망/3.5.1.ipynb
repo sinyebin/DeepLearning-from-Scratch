{
 "cells": [
  {
   "cell_type": "code",
   "execution_count": 1,
   "id": "1f1d0eea",
   "metadata": {},
   "outputs": [],
   "source": [
    "import numpy as np"
   ]
  },
  {
   "cell_type": "code",
   "execution_count": 2,
   "id": "1d409e56",
   "metadata": {},
   "outputs": [],
   "source": [
    "a=np.array([0.3,2.9,4.0])"
   ]
  },
  {
   "cell_type": "code",
   "execution_count": 3,
   "id": "87294ef6",
   "metadata": {},
   "outputs": [],
   "source": [
    "exp_a=np.exp(a)"
   ]
  },
  {
   "cell_type": "code",
   "execution_count": 4,
   "id": "05c54e4e",
   "metadata": {},
   "outputs": [
    {
     "name": "stdout",
     "output_type": "stream",
     "text": [
      "[ 1.34985881 18.17414537 54.59815003]\n"
     ]
    }
   ],
   "source": [
    "print(exp_a)"
   ]
  },
  {
   "cell_type": "code",
   "execution_count": 5,
   "id": "fe31efd9",
   "metadata": {},
   "outputs": [],
   "source": [
    "sum_exp_a=np.sum(exp_a)"
   ]
  },
  {
   "cell_type": "code",
   "execution_count": 6,
   "id": "09ac074e",
   "metadata": {},
   "outputs": [
    {
     "name": "stdout",
     "output_type": "stream",
     "text": [
      "74.1221542101633\n"
     ]
    }
   ],
   "source": [
    "print(sum_exp_a)"
   ]
  },
  {
   "cell_type": "code",
   "execution_count": 7,
   "id": "5bfa5801",
   "metadata": {},
   "outputs": [],
   "source": [
    "y=exp_a/sum_exp_a"
   ]
  },
  {
   "cell_type": "code",
   "execution_count": 8,
   "id": "789b0439",
   "metadata": {},
   "outputs": [
    {
     "name": "stdout",
     "output_type": "stream",
     "text": [
      "[0.01821127 0.24519181 0.73659691]\n"
     ]
    }
   ],
   "source": [
    "print(y)"
   ]
  },
  {
   "cell_type": "code",
   "execution_count": null,
   "id": "070a0acb",
   "metadata": {},
   "outputs": [],
   "source": [
    "def softmax(a):\n",
    "    exp_a=np.exp(a)\n",
    "    sum_exp_a=np.sum(exp_a)\n",
    "    "
   ]
  }
 ],
 "metadata": {
  "kernelspec": {
   "display_name": "Python 3",
   "language": "python",
   "name": "python3"
  },
  "language_info": {
   "codemirror_mode": {
    "name": "ipython",
    "version": 3
   },
   "file_extension": ".py",
   "mimetype": "text/x-python",
   "name": "python",
   "nbconvert_exporter": "python",
   "pygments_lexer": "ipython3",
   "version": "3.8.8"
  }
 },
 "nbformat": 4,
 "nbformat_minor": 5
}
