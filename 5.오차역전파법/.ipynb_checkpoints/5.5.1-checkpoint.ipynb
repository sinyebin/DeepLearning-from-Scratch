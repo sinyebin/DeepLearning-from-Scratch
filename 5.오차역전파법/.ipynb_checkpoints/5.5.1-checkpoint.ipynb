{
 "cells": [
  {
   "cell_type": "code",
   "execution_count": 2,
   "id": "6d0cdbc3",
   "metadata": {},
   "outputs": [],
   "source": [
    "import numpy as np\n",
    "from layer import *"
   ]
  },
  {
   "cell_type": "code",
   "execution_count": 3,
   "id": "32f0d571",
   "metadata": {},
   "outputs": [],
   "source": [
    "x=np.array([[1.0,-0.5],[-2.0,3.0]])"
   ]
  },
  {
   "cell_type": "code",
   "execution_count": 4,
   "id": "8f44d72b",
   "metadata": {},
   "outputs": [
    {
     "name": "stdout",
     "output_type": "stream",
     "text": [
      "[[ 1.  -0.5]\n",
      " [-2.   3. ]]\n"
     ]
    }
   ],
   "source": [
    "print(x)"
   ]
  },
  {
   "cell_type": "code",
   "execution_count": 5,
   "id": "7c9df60d",
   "metadata": {},
   "outputs": [],
   "source": [
    "mask=(x<=0)"
   ]
  },
  {
   "cell_type": "code",
   "execution_count": 6,
   "id": "ae9aab7c",
   "metadata": {},
   "outputs": [
    {
     "name": "stdout",
     "output_type": "stream",
     "text": [
      "[[False  True]\n",
      " [ True False]]\n"
     ]
    }
   ],
   "source": [
    "print(mask)"
   ]
  },
  {
   "cell_type": "code",
   "execution_count": null,
   "id": "a433f15d",
   "metadata": {},
   "outputs": [],
   "source": []
  }
 ],
 "metadata": {
  "kernelspec": {
   "display_name": "Python 3",
   "language": "python",
   "name": "python3"
  },
  "language_info": {
   "codemirror_mode": {
    "name": "ipython",
    "version": 3
   },
   "file_extension": ".py",
   "mimetype": "text/x-python",
   "name": "python",
   "nbconvert_exporter": "python",
   "pygments_lexer": "ipython3",
   "version": "3.8.8"
  }
 },
 "nbformat": 4,
 "nbformat_minor": 5
}
