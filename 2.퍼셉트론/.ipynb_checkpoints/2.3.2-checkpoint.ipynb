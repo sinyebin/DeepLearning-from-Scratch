{
 "cells": [
  {
   "cell_type": "code",
   "execution_count": 1,
   "id": "ee3ee4bd",
   "metadata": {},
   "outputs": [],
   "source": [
    "import numpy as np"
   ]
  },
  {
   "cell_type": "code",
   "execution_count": 2,
   "id": "6ea6a744",
   "metadata": {},
   "outputs": [],
   "source": [
    "x=np.array([0,1]) # 입력"
   ]
  },
  {
   "cell_type": "code",
   "execution_count": 3,
   "id": "226a0481",
   "metadata": {},
   "outputs": [],
   "source": [
    "w=np.array([0.5,0.5]) #가중치"
   ]
  },
  {
   "cell_type": "code",
   "execution_count": 4,
   "id": "b4f20f77",
   "metadata": {},
   "outputs": [],
   "source": [
    "b=-0.7"
   ]
  },
  {
   "cell_type": "code",
   "execution_count": 5,
   "id": "3afef45f",
   "metadata": {},
   "outputs": [
    {
     "data": {
      "text/plain": [
       "array([0. , 0.5])"
      ]
     },
     "execution_count": 5,
     "metadata": {},
     "output_type": "execute_result"
    }
   ],
   "source": [
    "w*x"
   ]
  },
  {
   "cell_type": "code",
   "execution_count": 6,
   "id": "8f35f1dd",
   "metadata": {},
   "outputs": [
    {
     "data": {
      "text/plain": [
       "0.5"
      ]
     },
     "execution_count": 6,
     "metadata": {},
     "output_type": "execute_result"
    }
   ],
   "source": [
    "np.sum(w*x)"
   ]
  },
  {
   "cell_type": "code",
   "execution_count": 7,
   "id": "89d2dd3e",
   "metadata": {},
   "outputs": [
    {
     "data": {
      "text/plain": [
       "-0.19999999999999996"
      ]
     },
     "execution_count": 7,
     "metadata": {},
     "output_type": "execute_result"
    }
   ],
   "source": [
    "np.sum(w*x)+b"
   ]
  },
  {
   "cell_type": "code",
   "execution_count": null,
   "id": "4aaca97c",
   "metadata": {},
   "outputs": [],
   "source": []
  }
 ],
 "metadata": {
  "jupytext": {
   "formats": "ipynb,auto:light"
  },
  "kernelspec": {
   "display_name": "Python 3",
   "language": "python",
   "name": "python3"
  },
  "language_info": {
   "codemirror_mode": {
    "name": "ipython",
    "version": 3
   },
   "file_extension": ".py",
   "mimetype": "text/x-python",
   "name": "python",
   "nbconvert_exporter": "python",
   "pygments_lexer": "ipython3",
   "version": "3.8.8"
  }
 },
 "nbformat": 4,
 "nbformat_minor": 5
}
