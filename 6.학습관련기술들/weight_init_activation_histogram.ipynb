{
 "cells": [
  {
   "cell_type": "code",
   "execution_count": 1,
   "id": "130709d7",
   "metadata": {},
   "outputs": [],
   "source": [
    "import numpy as np\n",
    "import matplotlib.pyplot as plt"
   ]
  },
  {
   "cell_type": "code",
   "execution_count": 2,
   "id": "6b29b463",
   "metadata": {},
   "outputs": [],
   "source": [
    "def sigmoid(x):\n",
    "    return 1 / (1 + np.exp(-x))"
   ]
  },
  {
   "cell_type": "code",
   "execution_count": 3,
   "id": "3a65e63f",
   "metadata": {},
   "outputs": [],
   "source": [
    "def ReLU(x):\n",
    "    return np.maximum(0, x)"
   ]
  },
  {
   "cell_type": "code",
   "execution_count": 4,
   "id": "20101e87",
   "metadata": {},
   "outputs": [],
   "source": [
    "def tanh(x):\n",
    "    return np.tanh(x)"
   ]
  },
  {
   "cell_type": "code",
   "execution_count": 5,
   "id": "1d079b92",
   "metadata": {},
   "outputs": [],
   "source": [
    "input_data = np.random.randn(1000, 100)"
   ]
  },
  {
   "cell_type": "code",
   "execution_count": 6,
   "id": "e9c2fb8f",
   "metadata": {},
   "outputs": [],
   "source": [
    "node_num = 100"
   ]
  },
  {
   "cell_type": "code",
   "execution_count": 7,
   "id": "c23ba12c",
   "metadata": {},
   "outputs": [],
   "source": [
    "hidden_layer_size = 5"
   ]
  },
  {
   "cell_type": "code",
   "execution_count": 8,
   "id": "5e9dae0f",
   "metadata": {},
   "outputs": [],
   "source": [
    "activations = {}"
   ]
  },
  {
   "cell_type": "code",
   "execution_count": 9,
   "id": "5da287f6",
   "metadata": {},
   "outputs": [],
   "source": [
    "x = input_data"
   ]
  },
  {
   "cell_type": "code",
   "execution_count": 11,
   "id": "16d28ec7",
   "metadata": {},
   "outputs": [],
   "source": [
    "for i in range(hidden_layer_size):\n",
    "    if i != 0:\n",
    "        x = activations[i-1]\n",
    "    w = np.random.randn(node_num, node_num) * 1\n",
    "\n",
    "\n",
    "\n",
    "    a = np.dot(x, w)\n",
    "\n",
    "\n",
    "\n",
    "    z = sigmoid(a)\n",
    "\n",
    "    activations[i] = z"
   ]
  },
  {
   "cell_type": "code",
   "execution_count": 14,
   "id": "58a906c4",
   "metadata": {},
   "outputs": [
    {
     "data": {
      "image/png": "[encoded data removed]",
      "text/plain": [
       "<Figure size 432x288 with 5 Axes>"
      ]
     },
     "metadata": {
      "needs_background": "light"
     },
     "output_type": "display_data"
    }
   ],
   "source": [
    "for i, a in activations.items():\n",
    "    plt.subplot(1, len(activations), i+1)\n",
    "    plt.title(str(i+1) + \"-layer\")\n",
    "    if i != 0: plt.yticks([], [])\n",
    "    plt.hist(a.flatten(), 30, range=(0,1))\n",
    "plt.show()"
   ]
  },
  {
   "cell_type": "code",
   "execution_count": null,
   "id": "a31b0972",
   "metadata": {},
   "outputs": [],
   "source": []
  }
 ],
 "metadata": {
  "kernelspec": {
   "display_name": "Python 3",
   "language": "python",
   "name": "python3"
  },
  "language_info": {
   "codemirror_mode": {
    "name": "ipython",
    "version": 3
   },
   "file_extension": ".py",
   "mimetype": "text/x-python",
   "name": "python",
   "nbconvert_exporter": "python",
   "pygments_lexer": "ipython3",
   "version": "3.8.8"
  }
 },
 "nbformat": 4,
 "nbformat_minor": 5
}
