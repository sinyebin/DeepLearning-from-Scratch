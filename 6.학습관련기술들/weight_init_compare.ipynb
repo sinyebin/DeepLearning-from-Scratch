{
 "cells": [
  {
   "cell_type": "code",
   "execution_count": 1,
   "id": "7da32be6",
   "metadata": {},
   "outputs": [],
   "source": [
    "import os\n",
    "import sys"
   ]
  },
  {
   "cell_type": "code",
   "execution_count": 4,
   "id": "44616d8a",
   "metadata": {},
   "outputs": [],
   "source": [
    "sys.path.append(os.pardir)  \n",
    "import numpy as np\n",
    "import matplotlib.pyplot as plt\n",
    "from mnist import load_mnist\n",
    "from common.util import smooth_curve\n",
    "from common.multi_layer_net import MultiLayerNet\n",
    "from common.optimizer import SGD"
   ]
  },
  {
   "cell_type": "code",
   "execution_count": 5,
   "id": "fe30424f",
   "metadata": {},
   "outputs": [
    {
     "name": "stdout",
     "output_type": "stream",
     "text": [
      "Downloading train-images-idx3-ubyte.gz ... \n",
      "Done\n",
      "Downloading train-labels-idx1-ubyte.gz ... \n",
      "Done\n",
      "Downloading t10k-images-idx3-ubyte.gz ... \n",
      "Done\n",
      "Downloading t10k-labels-idx1-ubyte.gz ... \n",
      "Done\n",
      "Converting train-images-idx3-ubyte.gz to NumPy Array ...\n",
      "Done\n",
      "Converting train-labels-idx1-ubyte.gz to NumPy Array ...\n",
      "Done\n",
      "Converting t10k-images-idx3-ubyte.gz to NumPy Array ...\n",
      "Done\n",
      "Converting t10k-labels-idx1-ubyte.gz to NumPy Array ...\n",
      "Done\n",
      "Creating pickle file ...\n",
      "Done!\n"
     ]
    }
   ],
   "source": [
    "(x_train, t_train), (x_test, t_test) = load_mnist(normalize=True)\n",
    "\n",
    "train_size = x_train.shape[0]\n",
    "batch_size = 128\n",
    "max_iterations = 2000"
   ]
  },
  {
   "cell_type": "code",
   "execution_count": 6,
   "id": "8068df0d",
   "metadata": {},
   "outputs": [],
   "source": [
    "weight_init_types = {'std=0.01': 0.01, 'Xavier': 'sigmoid', 'He': 'relu'}\n",
    "optimizer = SGD(lr=0.01)"
   ]
  },
  {
   "cell_type": "code",
   "execution_count": 7,
   "id": "4509c978",
   "metadata": {},
   "outputs": [],
   "source": [
    "networks = {}\n",
    "train_loss = {}\n",
    "for key, weight_type in weight_init_types.items():\n",
    "    networks[key] = MultiLayerNet(input_size=784, hidden_size_list=[100, 100, 100, 100],\n",
    "                                  output_size=10, weight_init_std=weight_type)\n",
    "    train_loss[key] = []"
   ]
  },
  {
   "cell_type": "code",
   "execution_count": 8,
   "id": "6aa4c50f",
   "metadata": {},
   "outputs": [
    {
     "name": "stdout",
     "output_type": "stream",
     "text": [
      "===========iteration:0===========\n",
      "std=0.01:2.3024936015005366\n",
      "Xavier:2.290458017676026\n",
      "He:2.4771880796829655\n",
      "===========iteration:100===========\n",
      "std=0.01:2.3023810246229712\n",
      "Xavier:2.2225129738644163\n",
      "He:1.506193815751479\n",
      "===========iteration:200===========\n",
      "std=0.01:2.303656030009769\n",
      "Xavier:2.1063522957605127\n",
      "He:0.7200801681021831\n",
      "===========iteration:300===========\n",
      "std=0.01:2.3012249340428257\n",
      "Xavier:1.8286491672166945\n",
      "He:0.5763020505323176\n",
      "===========iteration:400===========\n",
      "std=0.01:2.302257981296611\n",
      "Xavier:1.3536122569753994\n",
      "He:0.5403940438853349\n",
      "===========iteration:500===========\n",
      "std=0.01:2.3026673924618364\n",
      "Xavier:0.8032355145280214\n",
      "He:0.2792884826454047\n",
      "===========iteration:600===========\n",
      "std=0.01:2.3038696336983344\n",
      "Xavier:0.5960696814262679\n",
      "He:0.22560529866579057\n",
      "===========iteration:700===========\n",
      "std=0.01:2.299273466686901\n",
      "Xavier:0.5801143726262266\n",
      "He:0.310250044611054\n",
      "===========iteration:800===========\n",
      "std=0.01:2.3014372688105937\n",
      "Xavier:0.5658695732323156\n",
      "He:0.34537773322007004\n",
      "===========iteration:900===========\n",
      "std=0.01:2.304630312232925\n",
      "Xavier:0.6501600025607688\n",
      "He:0.45638368832961124\n",
      "===========iteration:1000===========\n",
      "std=0.01:2.306013403939481\n",
      "Xavier:0.46543753446764247\n",
      "He:0.3521237484443589\n",
      "===========iteration:1100===========\n",
      "std=0.01:2.297645036788386\n",
      "Xavier:0.4205210614950589\n",
      "He:0.26882340631874535\n",
      "===========iteration:1200===========\n",
      "std=0.01:2.303588226929709\n",
      "Xavier:0.4023847811802204\n",
      "He:0.2189011043270281\n",
      "===========iteration:1300===========\n",
      "std=0.01:2.3015626704213688\n",
      "Xavier:0.23784013696962428\n",
      "He:0.18148454765921945\n",
      "===========iteration:1400===========\n",
      "std=0.01:2.2958258705658734\n",
      "Xavier:0.4606697587697811\n",
      "He:0.34350330510798766\n",
      "===========iteration:1500===========\n",
      "std=0.01:2.30413243751112\n",
      "Xavier:0.35778081601842154\n",
      "He:0.2214973362169648\n",
      "===========iteration:1600===========\n",
      "std=0.01:2.299039616862141\n",
      "Xavier:0.3479809771262838\n",
      "He:0.20830069219059866\n",
      "===========iteration:1700===========\n",
      "std=0.01:2.303251662261169\n",
      "Xavier:0.3413744725427504\n",
      "He:0.22931257681593376\n",
      "===========iteration:1800===========\n",
      "std=0.01:2.299855236159075\n",
      "Xavier:0.26657438278061596\n",
      "He:0.14834614036115584\n",
      "===========iteration:1900===========\n",
      "std=0.01:2.305877258411201\n",
      "Xavier:0.284243663391082\n",
      "He:0.18319485269259386\n"
     ]
    }
   ],
   "source": [
    "for i in range(max_iterations):\n",
    "    batch_mask = np.random.choice(train_size, batch_size)\n",
    "    x_batch = x_train[batch_mask]\n",
    "    t_batch = t_train[batch_mask]\n",
    "    \n",
    "    for key in weight_init_types.keys():\n",
    "        grads = networks[key].gradient(x_batch, t_batch)\n",
    "        optimizer.update(networks[key].params, grads)\n",
    "    \n",
    "        loss = networks[key].loss(x_batch, t_batch)\n",
    "        train_loss[key].append(loss)\n",
    "    \n",
    "    if i % 100 == 0:\n",
    "        print(\"===========\" + \"iteration:\" + str(i) + \"===========\")\n",
    "        for key in weight_init_types.keys():\n",
    "            loss = networks[key].loss(x_batch, t_batch)\n",
    "            print(key + \":\" + str(loss))\n"
   ]
  },
  {
   "cell_type": "code",
   "execution_count": null,
   "id": "1926d857",
   "metadata": {},
   "outputs": [],
   "source": []
  }
 ],
 "metadata": {
  "kernelspec": {
   "display_name": "Python 3",
   "language": "python",
   "name": "python3"
  },
  "language_info": {
   "codemirror_mode": {
    "name": "ipython",
    "version": 3
   },
   "file_extension": ".py",
   "mimetype": "text/x-python",
   "name": "python",
   "nbconvert_exporter": "python",
   "pygments_lexer": "ipython3",
   "version": "3.8.8"
  }
 },
 "nbformat": 4,
 "nbformat_minor": 5
}
